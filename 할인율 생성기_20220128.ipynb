{
 "cells": [
  {
   "cell_type": "code",
   "execution_count": 231,
   "metadata": {},
   "outputs": [],
   "source": [
    "import re\n",
    "import os\n",
    "import glob\n",
    "import json\n",
    "import sqlite3\n",
    "import requests\n",
    "import numpy as np\n",
    "import pandas as pd\n",
    "import matplotlib.pyplot as plt\n",
    "from datetime import datetime\n",
    "\n",
    "from typing import List, Dict\n",
    "from kics_qis4_scenario import SmithWilsonYTM, SmithWilson_ALPHA, Cont2Discrete, SmithWilson\n",
    "\n",
    "from selenium import webdriver\n",
    "from selenium.webdriver.support.ui import Select\n",
    "from selenium.webdriver.common.by import By\n",
    "from selenium.webdriver.common.keys import Keys\n",
    "from selenium.webdriver.support.ui import WebDriverWait\n",
    "from selenium.webdriver.support import expected_conditions as EC"
   ]
  },
  {
   "cell_type": "code",
   "execution_count": 33,
   "metadata": {},
   "outputs": [],
   "source": [
    "DOWNLOAD_PATH = rf'C:\\Users\\{os.environ[\"USERNAME\"]}\\Downloads'\n",
    "TENOR_MAP = {'3월': 0.25, '6월': 0.5, '9월': 0.75, '1년': 1.0, '1년6월': 1.5, '2년': 2., '2년6월': 2.5, '3년': 3., '4년': 4., '5년': 5., '7년': 7., '10년': 10., '15년': 15., '20년': 20., '30년': 30., '50년': 50.}"
   ]
  },
  {
   "cell_type": "code",
   "execution_count": 88,
   "metadata": {},
   "outputs": [],
   "source": [
    "# fx_tenor, fx_setting\n",
    "FILENAME = \"data/FSS_IFRS17 및 K-ICS 할인율 산출기준(원화, 해외통화)_'21년.xlsx\"\n",
    "df = pd.read_excel(FILENAME, sheet_name='IFRS17 및 K-ICS 할인율 산출기준')\n",
    "\n",
    "currencies = df.iloc[8, 2:].values\n",
    "num_currencies = len(currencies)\n",
    "llp = df.iloc[10, 2:2+num_currencies].values.astype(float)\n",
    "cp = df.iloc[11, 2:2+num_currencies].values.astype(float)\n",
    "ltfr = df.iloc[12, 2:2+num_currencies].values.astype(float)\n",
    "va = df.iloc[13, 2:2+num_currencies].values.astype(float)\n",
    "lp = df.iloc[14, 2:2+num_currencies].values.astype(float)\n",
    "freq = df.iloc[15, 2:2+num_currencies].values.astype(int)\n",
    "\n",
    "fx_setting = pd.DataFrame(np.c_[currencies, llp, cp, ltfr,va, lp, freq],\n",
    "    columns=['CURRENCY', 'LLP', 'CP', 'LTFR', 'VA', 'LP', 'FREQ'])\n",
    "\n",
    "llp = float(re.search(r'(\\d+)년', df.iloc[2, 1]).group(1))\n",
    "cp = float(re.search(r': ([0-9]+)년', df.iloc[3, 1]).group(1))\n",
    "ltfr = float(re.search(r': ([0-9\\.]+)', df.iloc[4, 1]).group(1))/100\n",
    "\n",
    "tenor_end = df.iloc[17:, 1].str.find('※ 참고사항').dropna().index[0]\n",
    "tenor_all = df.iloc[17:tenor_end-1, 1].values.astype(float)\n",
    "num_tenor = len(tenor_all)\n",
    "\n",
    "fx_tickers = pd.DataFrame(df.iloc[17:17+num_tenor,2:2+num_currencies].values, columns = currencies, index=tenor_all).T\n",
    "result = []\n",
    "for curr, tick in fx_tickers.iterrows():\n",
    "    result.append([curr, tick.loc[lambda x: x != '-'].index.to_numpy()])\n",
    "fx_tenor = pd.DataFrame(result,\n",
    "    columns=['CURRENCY', 'TENOR'])\n",
    "fx_tenor['TENOR'] = fx_tenor['TENOR'].apply(lambda x: ','.join(x.astype(str).tolist()))\n",
    "fx_setting = fx_setting.merge(fx_tenor, on='CURRENCY', how='outer')\n",
    "fx_setting.insert(0, 'BASE_YYMM', '202112')"
   ]
  },
  {
   "cell_type": "code",
   "execution_count": 89,
   "metadata": {},
   "outputs": [],
   "source": [
    "import sqlite3\n",
    "conn = sqlite3.connect('fss_scenario.db')\n",
    "fx_setting.to_sql('BASIC_SETTING', conn, if_exists='append', index=False)"
   ]
  },
  {
   "cell_type": "code",
   "execution_count": 91,
   "metadata": {},
   "outputs": [],
   "source": [
    "driver = webdriver.Chrome()"
   ]
  },
  {
   "cell_type": "code",
   "execution_count": 92,
   "metadata": {},
   "outputs": [],
   "source": [
    "driver.get('https://kofiabond.or.kr/websquare/websquare.html?w2xPath=/xml/Com/Common_TabMnuDsp.xml&divisionId=MBIS01070010000000&serviceId=BIS0100100280&topMenuIndex=6&w2xHome=/xml/&w2xDocumentRoot=#tabContents1_contents_tabs2_bridge')"
   ]
  },
  {
   "cell_type": "code",
   "execution_count": 93,
   "metadata": {},
   "outputs": [],
   "source": [
    "driver.find_element(By.CSS_SELECTOR, '#tabContents1_tab_tabs2').click()"
   ]
  },
  {
   "cell_type": "code",
   "execution_count": 94,
   "metadata": {},
   "outputs": [],
   "source": [
    "driver.switch_to.frame(driver.find_element(By.CSS_SELECTOR, '#tabContents1_contents_tabs2_body'))"
   ]
  },
  {
   "cell_type": "code",
   "execution_count": 95,
   "metadata": {},
   "outputs": [],
   "source": [
    "start_date = '20210101'\n",
    "end_date = '20211231'\n",
    "\n",
    "driver.find_element(By.CSS_SELECTOR, '#schSstandardDt_input').click()\n",
    "driver.find_element(By.CSS_SELECTOR, '#schSstandardDt_input').send_keys(Keys.DELETE)\n",
    "driver.find_element(By.CSS_SELECTOR, '#schSstandardDt_input').send_keys(Keys.DELETE)\n",
    "driver.find_element(By.CSS_SELECTOR, '#schSstandardDt_input').send_keys(Keys.DELETE)\n",
    "driver.find_element(By.CSS_SELECTOR, '#schSstandardDt_input').send_keys(Keys.DELETE)\n",
    "driver.find_element(By.CSS_SELECTOR, '#schSstandardDt_input').send_keys(Keys.BACKSPACE)\n",
    "driver.find_element(By.CSS_SELECTOR, '#schSstandardDt_input').send_keys(Keys.BACKSPACE)\n",
    "driver.find_element(By.CSS_SELECTOR, '#schSstandardDt_input').send_keys(Keys.BACKSPACE)\n",
    "driver.find_element(By.CSS_SELECTOR, '#schSstandardDt_input').send_keys(Keys.BACKSPACE)\n",
    "driver.find_element(By.CSS_SELECTOR, '#schSstandardDt_input').send_keys(start_date)\n",
    "\n",
    "driver.find_element(By.CSS_SELECTOR, '#schEstandardDt_input').click()\n",
    "driver.find_element(By.CSS_SELECTOR, '#schEstandardDt_input').send_keys(Keys.DELETE)\n",
    "driver.find_element(By.CSS_SELECTOR, '#schEstandardDt_input').send_keys(Keys.DELETE)\n",
    "driver.find_element(By.CSS_SELECTOR, '#schEstandardDt_input').send_keys(Keys.DELETE)\n",
    "driver.find_element(By.CSS_SELECTOR, '#schEstandardDt_input').send_keys(Keys.DELETE)\n",
    "driver.find_element(By.CSS_SELECTOR, '#schEstandardDt_input').send_keys(Keys.BACKSPACE)\n",
    "driver.find_element(By.CSS_SELECTOR, '#schEstandardDt_input').send_keys(Keys.BACKSPACE)\n",
    "driver.find_element(By.CSS_SELECTOR, '#schEstandardDt_input').send_keys(Keys.BACKSPACE)\n",
    "driver.find_element(By.CSS_SELECTOR, '#schEstandardDt_input').send_keys(Keys.BACKSPACE)\n",
    "driver.find_element(By.CSS_SELECTOR, '#schEstandardDt_input').send_keys(end_date)\n",
    "\n",
    "Select(driver.find_element(By.CSS_SELECTOR, '#selectBndTyp1_input_0')).select_by_index(1)\n",
    "Select(driver.find_element(By.CSS_SELECTOR, '#selectBndTyp2_input_0')).select_by_index(1)\n",
    "Select(driver.find_element(By.CSS_SELECTOR, '#selectBndTyp3_input_0')).select_by_index(1)\n",
    "Select(driver.find_element(By.CSS_SELECTOR, '#selectBndTyp4_input_0')).select_by_index(1)\n",
    "Select(driver.find_element(By.CSS_SELECTOR, '#selectbox_input_0')).select_by_index(2)\n",
    "\n",
    "Select(driver.find_element(By.CSS_SELECTOR, '#selectTrm1_input_0')).select_by_index(1)\n",
    "Select(driver.find_element(By.CSS_SELECTOR, '#selectTrm2_input_0')).select_by_index(2)\n",
    "Select(driver.find_element(By.CSS_SELECTOR, '#selectTrm3_input_0')).select_by_index(3)\n",
    "Select(driver.find_element(By.CSS_SELECTOR, '#selectTrm4_input_0')).select_by_index(4)\n"
   ]
  },
  {
   "cell_type": "code",
   "execution_count": 96,
   "metadata": {},
   "outputs": [],
   "source": [
    "driver.execute_script('searchData()')"
   ]
  },
  {
   "cell_type": "code",
   "execution_count": 97,
   "metadata": {},
   "outputs": [],
   "source": [
    "driver.execute_script('excelDownLoad()')"
   ]
  },
  {
   "cell_type": "code",
   "execution_count": 98,
   "metadata": {},
   "outputs": [],
   "source": [
    "start_date = '20210101'\n",
    "end_date = '20211231'\n",
    "\n",
    "driver.find_element(By.CSS_SELECTOR, '#schSstandardDt_input').click()\n",
    "driver.find_element(By.CSS_SELECTOR, '#schSstandardDt_input').send_keys(Keys.DELETE)\n",
    "driver.find_element(By.CSS_SELECTOR, '#schSstandardDt_input').send_keys(Keys.DELETE)\n",
    "driver.find_element(By.CSS_SELECTOR, '#schSstandardDt_input').send_keys(Keys.DELETE)\n",
    "driver.find_element(By.CSS_SELECTOR, '#schSstandardDt_input').send_keys(Keys.DELETE)\n",
    "driver.find_element(By.CSS_SELECTOR, '#schSstandardDt_input').send_keys(Keys.BACKSPACE)\n",
    "driver.find_element(By.CSS_SELECTOR, '#schSstandardDt_input').send_keys(Keys.BACKSPACE)\n",
    "driver.find_element(By.CSS_SELECTOR, '#schSstandardDt_input').send_keys(Keys.BACKSPACE)\n",
    "driver.find_element(By.CSS_SELECTOR, '#schSstandardDt_input').send_keys(Keys.BACKSPACE)\n",
    "driver.find_element(By.CSS_SELECTOR, '#schSstandardDt_input').send_keys(start_date)\n",
    "\n",
    "driver.find_element(By.CSS_SELECTOR, '#schEstandardDt_input').click()\n",
    "driver.find_element(By.CSS_SELECTOR, '#schEstandardDt_input').send_keys(Keys.DELETE)\n",
    "driver.find_element(By.CSS_SELECTOR, '#schEstandardDt_input').send_keys(Keys.DELETE)\n",
    "driver.find_element(By.CSS_SELECTOR, '#schEstandardDt_input').send_keys(Keys.DELETE)\n",
    "driver.find_element(By.CSS_SELECTOR, '#schEstandardDt_input').send_keys(Keys.DELETE)\n",
    "driver.find_element(By.CSS_SELECTOR, '#schEstandardDt_input').send_keys(Keys.BACKSPACE)\n",
    "driver.find_element(By.CSS_SELECTOR, '#schEstandardDt_input').send_keys(Keys.BACKSPACE)\n",
    "driver.find_element(By.CSS_SELECTOR, '#schEstandardDt_input').send_keys(Keys.BACKSPACE)\n",
    "driver.find_element(By.CSS_SELECTOR, '#schEstandardDt_input').send_keys(Keys.BACKSPACE)\n",
    "driver.find_element(By.CSS_SELECTOR, '#schEstandardDt_input').send_keys(end_date)\n",
    "\n",
    "Select(driver.find_element(By.CSS_SELECTOR, '#selectBndTyp1_input_0')).select_by_index(1)\n",
    "Select(driver.find_element(By.CSS_SELECTOR, '#selectBndTyp2_input_0')).select_by_index(1)\n",
    "Select(driver.find_element(By.CSS_SELECTOR, '#selectBndTyp3_input_0')).select_by_index(1)\n",
    "Select(driver.find_element(By.CSS_SELECTOR, '#selectBndTyp4_input_0')).select_by_index(1)\n",
    "Select(driver.find_element(By.CSS_SELECTOR, '#selectbox_input_0')).select_by_index(2)\n",
    "\n",
    "Select(driver.find_element(By.CSS_SELECTOR, '#selectTrm1_input_0')).select_by_index(5)\n",
    "Select(driver.find_element(By.CSS_SELECTOR, '#selectTrm2_input_0')).select_by_index(6)\n",
    "Select(driver.find_element(By.CSS_SELECTOR, '#selectTrm3_input_0')).select_by_index(7)\n",
    "Select(driver.find_element(By.CSS_SELECTOR, '#selectTrm4_input_0')).select_by_index(8)"
   ]
  },
  {
   "cell_type": "code",
   "execution_count": 99,
   "metadata": {},
   "outputs": [],
   "source": [
    "driver.execute_script('searchData()')"
   ]
  },
  {
   "cell_type": "code",
   "execution_count": 100,
   "metadata": {},
   "outputs": [],
   "source": [
    "driver.execute_script('excelDownLoad()')"
   ]
  },
  {
   "cell_type": "code",
   "execution_count": 101,
   "metadata": {},
   "outputs": [],
   "source": [
    "start_date = '20210101'\n",
    "end_date = '20211231'\n",
    "\n",
    "driver.find_element(By.CSS_SELECTOR, '#schSstandardDt_input').click()\n",
    "driver.find_element(By.CSS_SELECTOR, '#schSstandardDt_input').send_keys(Keys.DELETE)\n",
    "driver.find_element(By.CSS_SELECTOR, '#schSstandardDt_input').send_keys(Keys.DELETE)\n",
    "driver.find_element(By.CSS_SELECTOR, '#schSstandardDt_input').send_keys(Keys.DELETE)\n",
    "driver.find_element(By.CSS_SELECTOR, '#schSstandardDt_input').send_keys(Keys.DELETE)\n",
    "driver.find_element(By.CSS_SELECTOR, '#schSstandardDt_input').send_keys(Keys.BACKSPACE)\n",
    "driver.find_element(By.CSS_SELECTOR, '#schSstandardDt_input').send_keys(Keys.BACKSPACE)\n",
    "driver.find_element(By.CSS_SELECTOR, '#schSstandardDt_input').send_keys(Keys.BACKSPACE)\n",
    "driver.find_element(By.CSS_SELECTOR, '#schSstandardDt_input').send_keys(Keys.BACKSPACE)\n",
    "driver.find_element(By.CSS_SELECTOR, '#schSstandardDt_input').send_keys(start_date)\n",
    "\n",
    "driver.find_element(By.CSS_SELECTOR, '#schEstandardDt_input').click()\n",
    "driver.find_element(By.CSS_SELECTOR, '#schEstandardDt_input').send_keys(Keys.DELETE)\n",
    "driver.find_element(By.CSS_SELECTOR, '#schEstandardDt_input').send_keys(Keys.DELETE)\n",
    "driver.find_element(By.CSS_SELECTOR, '#schEstandardDt_input').send_keys(Keys.DELETE)\n",
    "driver.find_element(By.CSS_SELECTOR, '#schEstandardDt_input').send_keys(Keys.DELETE)\n",
    "driver.find_element(By.CSS_SELECTOR, '#schEstandardDt_input').send_keys(Keys.BACKSPACE)\n",
    "driver.find_element(By.CSS_SELECTOR, '#schEstandardDt_input').send_keys(Keys.BACKSPACE)\n",
    "driver.find_element(By.CSS_SELECTOR, '#schEstandardDt_input').send_keys(Keys.BACKSPACE)\n",
    "driver.find_element(By.CSS_SELECTOR, '#schEstandardDt_input').send_keys(Keys.BACKSPACE)\n",
    "driver.find_element(By.CSS_SELECTOR, '#schEstandardDt_input').send_keys(end_date)\n",
    "\n",
    "Select(driver.find_element(By.CSS_SELECTOR, '#selectBndTyp1_input_0')).select_by_index(1)\n",
    "Select(driver.find_element(By.CSS_SELECTOR, '#selectBndTyp2_input_0')).select_by_index(1)\n",
    "Select(driver.find_element(By.CSS_SELECTOR, '#selectBndTyp3_input_0')).select_by_index(1)\n",
    "Select(driver.find_element(By.CSS_SELECTOR, '#selectBndTyp4_input_0')).select_by_index(1)\n",
    "Select(driver.find_element(By.CSS_SELECTOR, '#selectbox_input_0')).select_by_index(2)\n",
    "\n",
    "Select(driver.find_element(By.CSS_SELECTOR, '#selectTrm1_input_0')).select_by_index(9)\n",
    "Select(driver.find_element(By.CSS_SELECTOR, '#selectTrm2_input_0')).select_by_index(10)\n",
    "Select(driver.find_element(By.CSS_SELECTOR, '#selectTrm3_input_0')).select_by_index(11)\n",
    "Select(driver.find_element(By.CSS_SELECTOR, '#selectTrm4_input_0')).select_by_index(12)"
   ]
  },
  {
   "cell_type": "code",
   "execution_count": 102,
   "metadata": {},
   "outputs": [],
   "source": [
    "driver.execute_script('searchData()')"
   ]
  },
  {
   "cell_type": "code",
   "execution_count": 103,
   "metadata": {},
   "outputs": [],
   "source": [
    "driver.execute_script('excelDownLoad()')"
   ]
  },
  {
   "cell_type": "code",
   "execution_count": 104,
   "metadata": {},
   "outputs": [],
   "source": [
    "start_date = '20210101'\n",
    "end_date = '20211231'\n",
    "\n",
    "driver.find_element(By.CSS_SELECTOR, '#schSstandardDt_input').click()\n",
    "driver.find_element(By.CSS_SELECTOR, '#schSstandardDt_input').send_keys(Keys.DELETE)\n",
    "driver.find_element(By.CSS_SELECTOR, '#schSstandardDt_input').send_keys(Keys.DELETE)\n",
    "driver.find_element(By.CSS_SELECTOR, '#schSstandardDt_input').send_keys(Keys.DELETE)\n",
    "driver.find_element(By.CSS_SELECTOR, '#schSstandardDt_input').send_keys(Keys.DELETE)\n",
    "driver.find_element(By.CSS_SELECTOR, '#schSstandardDt_input').send_keys(Keys.BACKSPACE)\n",
    "driver.find_element(By.CSS_SELECTOR, '#schSstandardDt_input').send_keys(Keys.BACKSPACE)\n",
    "driver.find_element(By.CSS_SELECTOR, '#schSstandardDt_input').send_keys(Keys.BACKSPACE)\n",
    "driver.find_element(By.CSS_SELECTOR, '#schSstandardDt_input').send_keys(Keys.BACKSPACE)\n",
    "driver.find_element(By.CSS_SELECTOR, '#schSstandardDt_input').send_keys(start_date)\n",
    "\n",
    "driver.find_element(By.CSS_SELECTOR, '#schEstandardDt_input').click()\n",
    "driver.find_element(By.CSS_SELECTOR, '#schEstandardDt_input').send_keys(Keys.DELETE)\n",
    "driver.find_element(By.CSS_SELECTOR, '#schEstandardDt_input').send_keys(Keys.DELETE)\n",
    "driver.find_element(By.CSS_SELECTOR, '#schEstandardDt_input').send_keys(Keys.DELETE)\n",
    "driver.find_element(By.CSS_SELECTOR, '#schEstandardDt_input').send_keys(Keys.DELETE)\n",
    "driver.find_element(By.CSS_SELECTOR, '#schEstandardDt_input').send_keys(Keys.BACKSPACE)\n",
    "driver.find_element(By.CSS_SELECTOR, '#schEstandardDt_input').send_keys(Keys.BACKSPACE)\n",
    "driver.find_element(By.CSS_SELECTOR, '#schEstandardDt_input').send_keys(Keys.BACKSPACE)\n",
    "driver.find_element(By.CSS_SELECTOR, '#schEstandardDt_input').send_keys(Keys.BACKSPACE)\n",
    "driver.find_element(By.CSS_SELECTOR, '#schEstandardDt_input').send_keys(end_date)\n",
    "\n",
    "Select(driver.find_element(By.CSS_SELECTOR, '#selectBndTyp1_input_0')).select_by_index(1)\n",
    "Select(driver.find_element(By.CSS_SELECTOR, '#selectBndTyp2_input_0')).select_by_index(1)\n",
    "Select(driver.find_element(By.CSS_SELECTOR, '#selectBndTyp3_input_0')).select_by_index(1)\n",
    "Select(driver.find_element(By.CSS_SELECTOR, '#selectBndTyp4_input_0')).select_by_index(1)\n",
    "Select(driver.find_element(By.CSS_SELECTOR, '#selectbox_input_0')).select_by_index(2)\n",
    "\n",
    "Select(driver.find_element(By.CSS_SELECTOR, '#selectTrm1_input_0')).select_by_index(13)\n",
    "Select(driver.find_element(By.CSS_SELECTOR, '#selectTrm2_input_0')).select_by_index(14)\n",
    "Select(driver.find_element(By.CSS_SELECTOR, '#selectTrm3_input_0')).select_by_index(15)\n",
    "Select(driver.find_element(By.CSS_SELECTOR, '#selectTrm4_input_0')).select_by_index(16)"
   ]
  },
  {
   "cell_type": "code",
   "execution_count": 105,
   "metadata": {},
   "outputs": [],
   "source": [
    "driver.execute_script('searchData()')"
   ]
  },
  {
   "cell_type": "code",
   "execution_count": 106,
   "metadata": {},
   "outputs": [],
   "source": [
    "driver.execute_script('excelDownLoad()')"
   ]
  },
  {
   "cell_type": "code",
   "execution_count": 113,
   "metadata": {},
   "outputs": [
    {
     "data": {
      "text/html": [
       "<div>\n",
       "<style scoped>\n",
       "    .dataframe tbody tr th:only-of-type {\n",
       "        vertical-align: middle;\n",
       "    }\n",
       "\n",
       "    .dataframe tbody tr th {\n",
       "        vertical-align: top;\n",
       "    }\n",
       "\n",
       "    .dataframe thead th {\n",
       "        text-align: right;\n",
       "    }\n",
       "</style>\n",
       "<table border=\"1\" class=\"dataframe\">\n",
       "  <thead>\n",
       "    <tr style=\"text-align: right;\">\n",
       "      <th></th>\n",
       "      <th>CURRENCY</th>\n",
       "      <th>BASE_DATE</th>\n",
       "      <th>TENOR</th>\n",
       "      <th>YIELD_RATE</th>\n",
       "    </tr>\n",
       "  </thead>\n",
       "  <tbody>\n",
       "    <tr>\n",
       "      <th>0</th>\n",
       "      <td>KRW</td>\n",
       "      <td>20211231</td>\n",
       "      <td>1.5</td>\n",
       "      <td>0.01550</td>\n",
       "    </tr>\n",
       "    <tr>\n",
       "      <th>1</th>\n",
       "      <td>KRW</td>\n",
       "      <td>20211230</td>\n",
       "      <td>1.5</td>\n",
       "      <td>0.01550</td>\n",
       "    </tr>\n",
       "    <tr>\n",
       "      <th>2</th>\n",
       "      <td>KRW</td>\n",
       "      <td>20211229</td>\n",
       "      <td>1.5</td>\n",
       "      <td>0.01539</td>\n",
       "    </tr>\n",
       "    <tr>\n",
       "      <th>3</th>\n",
       "      <td>KRW</td>\n",
       "      <td>20211228</td>\n",
       "      <td>1.5</td>\n",
       "      <td>0.01543</td>\n",
       "    </tr>\n",
       "    <tr>\n",
       "      <th>4</th>\n",
       "      <td>KRW</td>\n",
       "      <td>20211227</td>\n",
       "      <td>1.5</td>\n",
       "      <td>0.01529</td>\n",
       "    </tr>\n",
       "    <tr>\n",
       "      <th>...</th>\n",
       "      <td>...</td>\n",
       "      <td>...</td>\n",
       "      <td>...</td>\n",
       "      <td>...</td>\n",
       "    </tr>\n",
       "    <tr>\n",
       "      <th>3979</th>\n",
       "      <td>KRW</td>\n",
       "      <td>20210108</td>\n",
       "      <td>1.0</td>\n",
       "      <td>0.00633</td>\n",
       "    </tr>\n",
       "    <tr>\n",
       "      <th>3980</th>\n",
       "      <td>KRW</td>\n",
       "      <td>20210107</td>\n",
       "      <td>1.0</td>\n",
       "      <td>0.00636</td>\n",
       "    </tr>\n",
       "    <tr>\n",
       "      <th>3981</th>\n",
       "      <td>KRW</td>\n",
       "      <td>20210106</td>\n",
       "      <td>1.0</td>\n",
       "      <td>0.00636</td>\n",
       "    </tr>\n",
       "    <tr>\n",
       "      <th>3982</th>\n",
       "      <td>KRW</td>\n",
       "      <td>20210105</td>\n",
       "      <td>1.0</td>\n",
       "      <td>0.00636</td>\n",
       "    </tr>\n",
       "    <tr>\n",
       "      <th>3983</th>\n",
       "      <td>KRW</td>\n",
       "      <td>20210104</td>\n",
       "      <td>1.0</td>\n",
       "      <td>0.00651</td>\n",
       "    </tr>\n",
       "  </tbody>\n",
       "</table>\n",
       "<p>3984 rows × 4 columns</p>\n",
       "</div>"
      ],
      "text/plain": [
       "     CURRENCY BASE_DATE  TENOR  YIELD_RATE\n",
       "0         KRW  20211231    1.5     0.01550\n",
       "1         KRW  20211230    1.5     0.01550\n",
       "2         KRW  20211229    1.5     0.01539\n",
       "3         KRW  20211228    1.5     0.01543\n",
       "4         KRW  20211227    1.5     0.01529\n",
       "...       ...       ...    ...         ...\n",
       "3979      KRW  20210108    1.0     0.00633\n",
       "3980      KRW  20210107    1.0     0.00636\n",
       "3981      KRW  20210106    1.0     0.00636\n",
       "3982      KRW  20210105    1.0     0.00636\n",
       "3983      KRW  20210104    1.0     0.00651\n",
       "\n",
       "[3984 rows x 4 columns]"
      ]
     },
     "execution_count": 113,
     "metadata": {},
     "output_type": "execute_result"
    }
   ],
   "source": [
    "files = glob.glob(DOWNLOAD_PATH + '/기간별*.xls')\n",
    "result = []\n",
    "for file in files:\n",
    "    df = pd.read_excel(file)\n",
    "    index = df.iloc[2:, 0]\n",
    "    values = df.iloc[2:, 1:].values.astype(float)\n",
    "    columns = df.iloc[0, 1:].values\n",
    "    df2 = pd.DataFrame(values, columns=columns, index=index)\n",
    "    result.append(df2)\n",
    "df3 = pd.concat(result, axis=1)/100\n",
    "df3.columns = df3.columns.map(lambda x: TENOR_MAP.get(x, '#'))\n",
    "df3 = df3.reset_index()\n",
    "df3['일자'] = df3['일자'].str.replace('/', '')\n",
    "df3 = df3.rename(columns={'일자': 'BASE_DATE'})\n",
    "df3 = df3.melt(id_vars='BASE_DATE', var_name='TENOR', value_name='YIELD_RATE')\n",
    "df3['TENOR'] = df3['TENOR'].astype(float)\n",
    "df3.insert(0, 'CURRENCY', 'KRW')\n",
    "df3"
   ]
  },
  {
   "cell_type": "code",
   "execution_count": 114,
   "metadata": {},
   "outputs": [],
   "source": [
    "df3.to_sql('YIELD_RATE_HIST', conn, if_exists='append', index=False)"
   ]
  },
  {
   "cell_type": "code",
   "execution_count": 26,
   "metadata": {},
   "outputs": [],
   "source": [
    "def get_int_rate_sw(tenor0: List[float], ytm: List[float],\n",
    "    shock_cont: List[float], alpha0: float, ltfr: float,\n",
    "    freq: int, spread: float, cp: float, tol: float, llp: float, t: int) -> Dict[str, List[float]]:\n",
    "    \n",
    "    t = np.arange(t+2)\n",
    "    t_out = t/12\n",
    "    tenor0 = np.array(tenor0)\n",
    "    ytm = np.array(ytm)\n",
    "    shock_cont = np.array(shock_cont)\n",
    "\n",
    "    # Yield2Spot\n",
    "    spot_cont = SmithWilsonYTM(ytm[tenor0.argmax()], alpha0, tenor0, ytm, freq, tenor0)[tenor0<=llp]\n",
    "    tenor = tenor0[tenor0<=llp]\n",
    "    spot_cont_input = np.log(np.exp(spot_cont+shock_cont)+spread)\n",
    "\n",
    "    # Liability\n",
    "    alpha = SmithWilson_ALPHA(ltfr, tenor, spot_cont_input, cp, tol)\n",
    "    spot_disc_liab = Cont2Discrete(SmithWilson(ltfr, alpha, tenor, spot_cont_input, t_out))\n",
    "    forward_disc_liab = (1+spot_disc_liab[1:])**t[1:]/(1+spot_disc_liab[:-1])**t[:-1]-1\n",
    "\n",
    "    # Asset\n",
    "    spot_disc_asset = Cont2Discrete(SmithWilsonYTM(ytm[tenor0.argmax()], alpha0, tenor0, ytm, freq, t_out))\n",
    "    forward_disc_asset = (1+spot_disc_asset[1:])**t[1:]/(1+spot_disc_asset[:-1])**t[:-1]-1\n",
    "\n",
    "    result = dict(\n",
    "        t=t[:-1].tolist(),\n",
    "        spot_disc_liab=spot_disc_liab[:-1].tolist(),\n",
    "        forward_disc_liab=forward_disc_liab.tolist(),\n",
    "        spot_disc_asset=spot_disc_asset[:-1].tolist(),\n",
    "        forward_disc_asset=forward_disc_asset.tolist()\n",
    "    )\n",
    "\n",
    "    return result\n"
   ]
  },
  {
   "cell_type": "code",
   "execution_count": 27,
   "metadata": {},
   "outputs": [],
   "source": [
    "# Inputs\n",
    "t = 1200\n",
    "alpha0 = 0.1\n",
    "ltfr = 0.052\n",
    "freq = 2\n",
    "spread = 0.00481\n",
    "cp = 60\n",
    "tol = 1e-4\n",
    "llp = 20\n",
    "tenor0 = np.array([0.25, 0.5, 0.75, 1, 1.5, 2, 2.5, 3, 4, 5, 7, 10, 15, 20, 30, 50])\n",
    "ytm = np.array([0.00416, 0.00527, 0.00595, 0.00656, 0.008, 0.00886, 0.00974, 0.0097, 0.01168, 0.01335, 0.01528, 0.01722, 0.01802, 0.01832, 0.01832, 0.01827])\n",
    "shock_cont = np.array([0, 0, 0, 0, 0, 0, 0, 0, 0, 0, 0, 0, 0, 0])\n",
    "\n",
    "result = get_int_rate_sw(tenor0, ytm, shock_cont, alpha0, ltfr, freq, spread, cp, tol, llp, t)"
   ]
  },
  {
   "cell_type": "code",
   "execution_count": 223,
   "metadata": {},
   "outputs": [],
   "source": [
    "req = requests.get('http://127.0.0.1:8000', params={\n",
    "    'custom_setting': False,\n",
    "    'currency': 'KRW',\n",
    "    'base_date': '20211231'\n",
    "}).json()"
   ]
  },
  {
   "cell_type": "code",
   "execution_count": 236,
   "metadata": {},
   "outputs": [
    {
     "data": {
      "image/png": "[encoded data removed]",
      "text/plain": [
       "<Figure size 432x288 with 1 Axes>"
      ]
     },
     "metadata": {
      "needs_background": "light"
     },
     "output_type": "display_data"
    }
   ],
   "source": [
    "t = req['t']\n",
    "spot_disc_asset = req['spot_disc_asset']\n",
    "spot_disc_liab = req['spot_disc_liab']\n",
    "forward_disc_asset = req['forward_disc_asset']\n",
    "forward_disc_liab = req['forward_disc_liab']\n",
    "\n",
    "plt.plot(t, forward_disc_asset)\n",
    "plt.plot(t, forward_disc_liab)\n",
    "plt.show()"
   ]
  },
  {
   "cell_type": "code",
   "execution_count": 249,
   "metadata": {},
   "outputs": [],
   "source": [
    "with open('req.json', 'w') as f:\n",
    "    json.dump(req, f)"
   ]
  }
 ],
 "metadata": {
  "interpreter": {
   "hash": "e362704a1ea90799be74b25044e4ca0509990194a83dd3e947f32174e5f9beb7"
  },
  "kernelspec": {
   "display_name": "Python 3.9.10 64-bit",
   "language": "python",
   "name": "python3"
  },
  "language_info": {
   "codemirror_mode": {
    "name": "ipython",
    "version": 3
   },
   "file_extension": ".py",
   "mimetype": "text/x-python",
   "name": "python",
   "nbconvert_exporter": "python",
   "pygments_lexer": "ipython3",
   "version": "3.9.7"
  },
  "orig_nbformat": 4
 },
 "nbformat": 4,
 "nbformat_minor": 2
}
