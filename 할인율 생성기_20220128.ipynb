{
 "cells": [
  {
   "cell_type": "code",
   "execution_count": 94,
   "metadata": {},
   "outputs": [],
   "source": [
    "# !pip --trusted-host pypi.org --trusted-host files.pythonhosted.org install xlrd"
   ]
  },
  {
   "cell_type": "code",
   "execution_count": 84,
   "metadata": {},
   "outputs": [],
   "source": [
    "import re\n",
    "import os\n",
    "import glob\n",
    "import numpy as np\n",
    "import pandas as pd\n",
    "from datetime import datetime\n",
    "\n",
    "from selenium import webdriver\n",
    "from selenium.webdriver.support.ui import Select\n",
    "from selenium.webdriver.common.by import By\n",
    "from selenium.webdriver.common.keys import Keys\n",
    "from selenium.webdriver.support.ui import WebDriverWait\n",
    "from selenium.webdriver.support import expected_conditions as EC"
   ]
  },
  {
   "cell_type": "code",
   "execution_count": 223,
   "metadata": {},
   "outputs": [],
   "source": [
    "DOWNLOAD_PATH = rf'C:\\Users\\{os.environ[\"USERNAME\"]}\\Downloads'\n",
    "TENOR_MAP = {'3월': 0.25, '6월': 0.5, '9월': 0.75, '1년': 1.0, '1년6월': 1.5, '2년': 2., '2년6월': 2.5, '3년': 3., '4년': 4., '5년': 5., '7년': 7., '10년': 10., '15년': 15., '20년': 20., '30년': 30., '50년': 50.}"
   ]
  },
  {
   "cell_type": "code",
   "execution_count": 233,
   "metadata": {},
   "outputs": [],
   "source": [
    "# fx_tenor, fx_setting\n",
    "FILENAME = \"data/FSS_IFRS17 및 K-ICS 할인율 산출기준(원화, 해외통화)_'21년.xlsx\"\n",
    "df = pd.read_excel(FILENAME, sheet_name='IFRS17 및 K-ICS 할인율 산출기준')\n",
    "\n",
    "currencies = df.iloc[8, 2:].values\n",
    "num_currencies = len(currencies)\n",
    "llp = df.iloc[10, 2:2+num_currencies].values.astype(float)\n",
    "cp = df.iloc[11, 2:2+num_currencies].values.astype(float)\n",
    "ltfr = df.iloc[12, 2:2+num_currencies].values.astype(float)\n",
    "va = df.iloc[13, 2:2+num_currencies].values.astype(float)\n",
    "lp = df.iloc[14, 2:2+num_currencies].values.astype(float)\n",
    "freq = df.iloc[15, 2:2+num_currencies].values.astype(int)\n",
    "\n",
    "fx_setting = pd.DataFrame(np.c_[currencies, llp, cp, ltfr,va, lp, freq],\n",
    "    columns=['CURRENCY', 'LLP', 'CP', 'LTFR', 'VA', 'LP', 'FREQ'])\n",
    "\n",
    "llp = float(re.search(r'(\\d+)년', df.iloc[2, 1]).group(1))\n",
    "cp = float(re.search(r': ([0-9]+)년', df.iloc[3, 1]).group(1))\n",
    "ltfr = float(re.search(r': ([0-9\\.]+)', df.iloc[4, 1]).group(1))/100\n",
    "\n",
    "tenor_end = df.iloc[17:, 1].str.find('※ 참고사항').dropna().index[0]\n",
    "tenor_all = df.iloc[17:tenor_end-1, 1].values.astype(float)\n",
    "num_tenor = len(tenor_all)\n",
    "\n",
    "fx_tickers = pd.DataFrame(df.iloc[17:17+num_tenor,2:2+num_currencies].values, columns = currencies, index=tenor).T\n",
    "result = []\n",
    "for curr, tick in fx_tickers.iterrows():\n",
    "    result.append([curr, tick.loc[lambda x: x != '-'].index.to_numpy()])\n",
    "fx_tenor = pd.DataFrame(result,\n",
    "    columns=['CURRENCY', 'TENOR'])"
   ]
  },
  {
   "cell_type": "code",
   "execution_count": 2,
   "metadata": {},
   "outputs": [],
   "source": [
    "driver = webdriver.Chrome()"
   ]
  },
  {
   "cell_type": "code",
   "execution_count": 19,
   "metadata": {},
   "outputs": [],
   "source": [
    "driver.get('https://kofiabond.or.kr/websquare/websquare.html?w2xPath=/xml/Com/Common_TabMnuDsp.xml&divisionId=MBIS01070010000000&serviceId=BIS0100100280&topMenuIndex=6&w2xHome=/xml/&w2xDocumentRoot=#tabContents1_contents_tabs2_bridge')"
   ]
  },
  {
   "cell_type": "code",
   "execution_count": 21,
   "metadata": {},
   "outputs": [],
   "source": [
    "driver.find_element(By.CSS_SELECTOR, '#tabContents1_tab_tabs2').click()"
   ]
  },
  {
   "cell_type": "code",
   "execution_count": 22,
   "metadata": {},
   "outputs": [],
   "source": [
    "driver.switch_to.frame(driver.find_element(By.CSS_SELECTOR, '#tabContents1_contents_tabs2_body'))"
   ]
  },
  {
   "cell_type": "code",
   "execution_count": 62,
   "metadata": {},
   "outputs": [],
   "source": [
    "start_date = '20210101'\n",
    "end_date = '20211231'\n",
    "\n",
    "driver.find_element(By.CSS_SELECTOR, '#schSstandardDt_input').click()\n",
    "driver.find_element(By.CSS_SELECTOR, '#schSstandardDt_input').send_keys(Keys.DELETE)\n",
    "driver.find_element(By.CSS_SELECTOR, '#schSstandardDt_input').send_keys(Keys.DELETE)\n",
    "driver.find_element(By.CSS_SELECTOR, '#schSstandardDt_input').send_keys(Keys.DELETE)\n",
    "driver.find_element(By.CSS_SELECTOR, '#schSstandardDt_input').send_keys(Keys.DELETE)\n",
    "driver.find_element(By.CSS_SELECTOR, '#schSstandardDt_input').send_keys(Keys.BACKSPACE)\n",
    "driver.find_element(By.CSS_SELECTOR, '#schSstandardDt_input').send_keys(Keys.BACKSPACE)\n",
    "driver.find_element(By.CSS_SELECTOR, '#schSstandardDt_input').send_keys(Keys.BACKSPACE)\n",
    "driver.find_element(By.CSS_SELECTOR, '#schSstandardDt_input').send_keys(Keys.BACKSPACE)\n",
    "driver.find_element(By.CSS_SELECTOR, '#schSstandardDt_input').send_keys(start_date)\n",
    "\n",
    "driver.find_element(By.CSS_SELECTOR, '#schEstandardDt_input').click()\n",
    "driver.find_element(By.CSS_SELECTOR, '#schEstandardDt_input').send_keys(Keys.DELETE)\n",
    "driver.find_element(By.CSS_SELECTOR, '#schEstandardDt_input').send_keys(Keys.DELETE)\n",
    "driver.find_element(By.CSS_SELECTOR, '#schEstandardDt_input').send_keys(Keys.DELETE)\n",
    "driver.find_element(By.CSS_SELECTOR, '#schEstandardDt_input').send_keys(Keys.DELETE)\n",
    "driver.find_element(By.CSS_SELECTOR, '#schEstandardDt_input').send_keys(Keys.BACKSPACE)\n",
    "driver.find_element(By.CSS_SELECTOR, '#schEstandardDt_input').send_keys(Keys.BACKSPACE)\n",
    "driver.find_element(By.CSS_SELECTOR, '#schEstandardDt_input').send_keys(Keys.BACKSPACE)\n",
    "driver.find_element(By.CSS_SELECTOR, '#schEstandardDt_input').send_keys(Keys.BACKSPACE)\n",
    "driver.find_element(By.CSS_SELECTOR, '#schEstandardDt_input').send_keys(end_date)\n",
    "\n",
    "Select(driver.find_element(By.CSS_SELECTOR, '#selectBndTyp1_input_0')).select_by_index(1)\n",
    "Select(driver.find_element(By.CSS_SELECTOR, '#selectBndTyp2_input_0')).select_by_index(1)\n",
    "Select(driver.find_element(By.CSS_SELECTOR, '#selectBndTyp3_input_0')).select_by_index(1)\n",
    "Select(driver.find_element(By.CSS_SELECTOR, '#selectBndTyp4_input_0')).select_by_index(1)\n",
    "Select(driver.find_element(By.CSS_SELECTOR, '#selectbox_input_0')).select_by_index(2)\n",
    "\n",
    "Select(driver.find_element(By.CSS_SELECTOR, '#selectTrm1_input_0')).select_by_index(1)\n",
    "Select(driver.find_element(By.CSS_SELECTOR, '#selectTrm2_input_0')).select_by_index(2)\n",
    "Select(driver.find_element(By.CSS_SELECTOR, '#selectTrm3_input_0')).select_by_index(3)\n",
    "Select(driver.find_element(By.CSS_SELECTOR, '#selectTrm4_input_0')).select_by_index(4)\n"
   ]
  },
  {
   "cell_type": "code",
   "execution_count": 63,
   "metadata": {},
   "outputs": [],
   "source": [
    "driver.execute_script('searchData()')"
   ]
  },
  {
   "cell_type": "code",
   "execution_count": null,
   "metadata": {},
   "outputs": [],
   "source": [
    "driver.execute_script('excelDownLoad()')"
   ]
  },
  {
   "cell_type": "code",
   "execution_count": 67,
   "metadata": {},
   "outputs": [],
   "source": [
    "start_date = '20210101'\n",
    "end_date = '20211231'\n",
    "\n",
    "driver.find_element(By.CSS_SELECTOR, '#schSstandardDt_input').click()\n",
    "driver.find_element(By.CSS_SELECTOR, '#schSstandardDt_input').send_keys(Keys.DELETE)\n",
    "driver.find_element(By.CSS_SELECTOR, '#schSstandardDt_input').send_keys(Keys.DELETE)\n",
    "driver.find_element(By.CSS_SELECTOR, '#schSstandardDt_input').send_keys(Keys.DELETE)\n",
    "driver.find_element(By.CSS_SELECTOR, '#schSstandardDt_input').send_keys(Keys.DELETE)\n",
    "driver.find_element(By.CSS_SELECTOR, '#schSstandardDt_input').send_keys(Keys.BACKSPACE)\n",
    "driver.find_element(By.CSS_SELECTOR, '#schSstandardDt_input').send_keys(Keys.BACKSPACE)\n",
    "driver.find_element(By.CSS_SELECTOR, '#schSstandardDt_input').send_keys(Keys.BACKSPACE)\n",
    "driver.find_element(By.CSS_SELECTOR, '#schSstandardDt_input').send_keys(Keys.BACKSPACE)\n",
    "driver.find_element(By.CSS_SELECTOR, '#schSstandardDt_input').send_keys(start_date)\n",
    "\n",
    "driver.find_element(By.CSS_SELECTOR, '#schEstandardDt_input').click()\n",
    "driver.find_element(By.CSS_SELECTOR, '#schEstandardDt_input').send_keys(Keys.DELETE)\n",
    "driver.find_element(By.CSS_SELECTOR, '#schEstandardDt_input').send_keys(Keys.DELETE)\n",
    "driver.find_element(By.CSS_SELECTOR, '#schEstandardDt_input').send_keys(Keys.DELETE)\n",
    "driver.find_element(By.CSS_SELECTOR, '#schEstandardDt_input').send_keys(Keys.DELETE)\n",
    "driver.find_element(By.CSS_SELECTOR, '#schEstandardDt_input').send_keys(Keys.BACKSPACE)\n",
    "driver.find_element(By.CSS_SELECTOR, '#schEstandardDt_input').send_keys(Keys.BACKSPACE)\n",
    "driver.find_element(By.CSS_SELECTOR, '#schEstandardDt_input').send_keys(Keys.BACKSPACE)\n",
    "driver.find_element(By.CSS_SELECTOR, '#schEstandardDt_input').send_keys(Keys.BACKSPACE)\n",
    "driver.find_element(By.CSS_SELECTOR, '#schEstandardDt_input').send_keys(end_date)\n",
    "\n",
    "Select(driver.find_element(By.CSS_SELECTOR, '#selectBndTyp1_input_0')).select_by_index(1)\n",
    "Select(driver.find_element(By.CSS_SELECTOR, '#selectBndTyp2_input_0')).select_by_index(1)\n",
    "Select(driver.find_element(By.CSS_SELECTOR, '#selectBndTyp3_input_0')).select_by_index(1)\n",
    "Select(driver.find_element(By.CSS_SELECTOR, '#selectBndTyp4_input_0')).select_by_index(1)\n",
    "Select(driver.find_element(By.CSS_SELECTOR, '#selectbox_input_0')).select_by_index(2)\n",
    "\n",
    "Select(driver.find_element(By.CSS_SELECTOR, '#selectTrm1_input_0')).select_by_index(5)\n",
    "Select(driver.find_element(By.CSS_SELECTOR, '#selectTrm2_input_0')).select_by_index(6)\n",
    "Select(driver.find_element(By.CSS_SELECTOR, '#selectTrm3_input_0')).select_by_index(7)\n",
    "Select(driver.find_element(By.CSS_SELECTOR, '#selectTrm4_input_0')).select_by_index(8)"
   ]
  },
  {
   "cell_type": "code",
   "execution_count": 68,
   "metadata": {},
   "outputs": [],
   "source": [
    "driver.execute_script('searchData()')"
   ]
  },
  {
   "cell_type": "code",
   "execution_count": 69,
   "metadata": {},
   "outputs": [],
   "source": [
    "driver.execute_script('excelDownLoad()')"
   ]
  },
  {
   "cell_type": "code",
   "execution_count": 70,
   "metadata": {},
   "outputs": [],
   "source": [
    "start_date = '20210101'\n",
    "end_date = '20211231'\n",
    "\n",
    "driver.find_element(By.CSS_SELECTOR, '#schSstandardDt_input').click()\n",
    "driver.find_element(By.CSS_SELECTOR, '#schSstandardDt_input').send_keys(Keys.DELETE)\n",
    "driver.find_element(By.CSS_SELECTOR, '#schSstandardDt_input').send_keys(Keys.DELETE)\n",
    "driver.find_element(By.CSS_SELECTOR, '#schSstandardDt_input').send_keys(Keys.DELETE)\n",
    "driver.find_element(By.CSS_SELECTOR, '#schSstandardDt_input').send_keys(Keys.DELETE)\n",
    "driver.find_element(By.CSS_SELECTOR, '#schSstandardDt_input').send_keys(Keys.BACKSPACE)\n",
    "driver.find_element(By.CSS_SELECTOR, '#schSstandardDt_input').send_keys(Keys.BACKSPACE)\n",
    "driver.find_element(By.CSS_SELECTOR, '#schSstandardDt_input').send_keys(Keys.BACKSPACE)\n",
    "driver.find_element(By.CSS_SELECTOR, '#schSstandardDt_input').send_keys(Keys.BACKSPACE)\n",
    "driver.find_element(By.CSS_SELECTOR, '#schSstandardDt_input').send_keys(start_date)\n",
    "\n",
    "driver.find_element(By.CSS_SELECTOR, '#schEstandardDt_input').click()\n",
    "driver.find_element(By.CSS_SELECTOR, '#schEstandardDt_input').send_keys(Keys.DELETE)\n",
    "driver.find_element(By.CSS_SELECTOR, '#schEstandardDt_input').send_keys(Keys.DELETE)\n",
    "driver.find_element(By.CSS_SELECTOR, '#schEstandardDt_input').send_keys(Keys.DELETE)\n",
    "driver.find_element(By.CSS_SELECTOR, '#schEstandardDt_input').send_keys(Keys.DELETE)\n",
    "driver.find_element(By.CSS_SELECTOR, '#schEstandardDt_input').send_keys(Keys.BACKSPACE)\n",
    "driver.find_element(By.CSS_SELECTOR, '#schEstandardDt_input').send_keys(Keys.BACKSPACE)\n",
    "driver.find_element(By.CSS_SELECTOR, '#schEstandardDt_input').send_keys(Keys.BACKSPACE)\n",
    "driver.find_element(By.CSS_SELECTOR, '#schEstandardDt_input').send_keys(Keys.BACKSPACE)\n",
    "driver.find_element(By.CSS_SELECTOR, '#schEstandardDt_input').send_keys(end_date)\n",
    "\n",
    "Select(driver.find_element(By.CSS_SELECTOR, '#selectBndTyp1_input_0')).select_by_index(1)\n",
    "Select(driver.find_element(By.CSS_SELECTOR, '#selectBndTyp2_input_0')).select_by_index(1)\n",
    "Select(driver.find_element(By.CSS_SELECTOR, '#selectBndTyp3_input_0')).select_by_index(1)\n",
    "Select(driver.find_element(By.CSS_SELECTOR, '#selectBndTyp4_input_0')).select_by_index(1)\n",
    "Select(driver.find_element(By.CSS_SELECTOR, '#selectbox_input_0')).select_by_index(2)\n",
    "\n",
    "Select(driver.find_element(By.CSS_SELECTOR, '#selectTrm1_input_0')).select_by_index(9)\n",
    "Select(driver.find_element(By.CSS_SELECTOR, '#selectTrm2_input_0')).select_by_index(10)\n",
    "Select(driver.find_element(By.CSS_SELECTOR, '#selectTrm3_input_0')).select_by_index(11)\n",
    "Select(driver.find_element(By.CSS_SELECTOR, '#selectTrm4_input_0')).select_by_index(12)"
   ]
  },
  {
   "cell_type": "code",
   "execution_count": 71,
   "metadata": {},
   "outputs": [],
   "source": [
    "driver.execute_script('searchData()')"
   ]
  },
  {
   "cell_type": "code",
   "execution_count": 72,
   "metadata": {},
   "outputs": [],
   "source": [
    "driver.execute_script('excelDownLoad()')"
   ]
  },
  {
   "cell_type": "code",
   "execution_count": 73,
   "metadata": {},
   "outputs": [],
   "source": [
    "start_date = '20210101'\n",
    "end_date = '20211231'\n",
    "\n",
    "driver.find_element(By.CSS_SELECTOR, '#schSstandardDt_input').click()\n",
    "driver.find_element(By.CSS_SELECTOR, '#schSstandardDt_input').send_keys(Keys.DELETE)\n",
    "driver.find_element(By.CSS_SELECTOR, '#schSstandardDt_input').send_keys(Keys.DELETE)\n",
    "driver.find_element(By.CSS_SELECTOR, '#schSstandardDt_input').send_keys(Keys.DELETE)\n",
    "driver.find_element(By.CSS_SELECTOR, '#schSstandardDt_input').send_keys(Keys.DELETE)\n",
    "driver.find_element(By.CSS_SELECTOR, '#schSstandardDt_input').send_keys(Keys.BACKSPACE)\n",
    "driver.find_element(By.CSS_SELECTOR, '#schSstandardDt_input').send_keys(Keys.BACKSPACE)\n",
    "driver.find_element(By.CSS_SELECTOR, '#schSstandardDt_input').send_keys(Keys.BACKSPACE)\n",
    "driver.find_element(By.CSS_SELECTOR, '#schSstandardDt_input').send_keys(Keys.BACKSPACE)\n",
    "driver.find_element(By.CSS_SELECTOR, '#schSstandardDt_input').send_keys(start_date)\n",
    "\n",
    "driver.find_element(By.CSS_SELECTOR, '#schEstandardDt_input').click()\n",
    "driver.find_element(By.CSS_SELECTOR, '#schEstandardDt_input').send_keys(Keys.DELETE)\n",
    "driver.find_element(By.CSS_SELECTOR, '#schEstandardDt_input').send_keys(Keys.DELETE)\n",
    "driver.find_element(By.CSS_SELECTOR, '#schEstandardDt_input').send_keys(Keys.DELETE)\n",
    "driver.find_element(By.CSS_SELECTOR, '#schEstandardDt_input').send_keys(Keys.DELETE)\n",
    "driver.find_element(By.CSS_SELECTOR, '#schEstandardDt_input').send_keys(Keys.BACKSPACE)\n",
    "driver.find_element(By.CSS_SELECTOR, '#schEstandardDt_input').send_keys(Keys.BACKSPACE)\n",
    "driver.find_element(By.CSS_SELECTOR, '#schEstandardDt_input').send_keys(Keys.BACKSPACE)\n",
    "driver.find_element(By.CSS_SELECTOR, '#schEstandardDt_input').send_keys(Keys.BACKSPACE)\n",
    "driver.find_element(By.CSS_SELECTOR, '#schEstandardDt_input').send_keys(end_date)\n",
    "\n",
    "Select(driver.find_element(By.CSS_SELECTOR, '#selectBndTyp1_input_0')).select_by_index(1)\n",
    "Select(driver.find_element(By.CSS_SELECTOR, '#selectBndTyp2_input_0')).select_by_index(1)\n",
    "Select(driver.find_element(By.CSS_SELECTOR, '#selectBndTyp3_input_0')).select_by_index(1)\n",
    "Select(driver.find_element(By.CSS_SELECTOR, '#selectBndTyp4_input_0')).select_by_index(1)\n",
    "Select(driver.find_element(By.CSS_SELECTOR, '#selectbox_input_0')).select_by_index(2)\n",
    "\n",
    "Select(driver.find_element(By.CSS_SELECTOR, '#selectTrm1_input_0')).select_by_index(13)\n",
    "Select(driver.find_element(By.CSS_SELECTOR, '#selectTrm2_input_0')).select_by_index(14)\n",
    "Select(driver.find_element(By.CSS_SELECTOR, '#selectTrm3_input_0')).select_by_index(15)\n",
    "Select(driver.find_element(By.CSS_SELECTOR, '#selectTrm4_input_0')).select_by_index(16)"
   ]
  },
  {
   "cell_type": "code",
   "execution_count": 74,
   "metadata": {},
   "outputs": [],
   "source": [
    "driver.execute_script('searchData()')"
   ]
  },
  {
   "cell_type": "code",
   "execution_count": 75,
   "metadata": {},
   "outputs": [],
   "source": [
    "driver.execute_script('excelDownLoad()')"
   ]
  },
  {
   "cell_type": "code",
   "execution_count": 222,
   "metadata": {},
   "outputs": [
    {
     "data": {
      "text/html": [
       "<div>\n",
       "<style scoped>\n",
       "    .dataframe tbody tr th:only-of-type {\n",
       "        vertical-align: middle;\n",
       "    }\n",
       "\n",
       "    .dataframe tbody tr th {\n",
       "        vertical-align: top;\n",
       "    }\n",
       "\n",
       "    .dataframe thead th {\n",
       "        text-align: right;\n",
       "    }\n",
       "</style>\n",
       "<table border=\"1\" class=\"dataframe\">\n",
       "  <thead>\n",
       "    <tr style=\"text-align: right;\">\n",
       "      <th></th>\n",
       "      <th>CURRENCY</th>\n",
       "      <th>BASE_DATE</th>\n",
       "      <th>MATURITY</th>\n",
       "      <th>INT_RATE</th>\n",
       "    </tr>\n",
       "  </thead>\n",
       "  <tbody>\n",
       "    <tr>\n",
       "      <th>0</th>\n",
       "      <td>KRW</td>\n",
       "      <td>20211231</td>\n",
       "      <td>4.0</td>\n",
       "      <td>0.01925</td>\n",
       "    </tr>\n",
       "    <tr>\n",
       "      <th>1</th>\n",
       "      <td>KRW</td>\n",
       "      <td>20211230</td>\n",
       "      <td>4.0</td>\n",
       "      <td>0.01925</td>\n",
       "    </tr>\n",
       "    <tr>\n",
       "      <th>2</th>\n",
       "      <td>KRW</td>\n",
       "      <td>20211229</td>\n",
       "      <td>4.0</td>\n",
       "      <td>0.01890</td>\n",
       "    </tr>\n",
       "    <tr>\n",
       "      <th>3</th>\n",
       "      <td>KRW</td>\n",
       "      <td>20211228</td>\n",
       "      <td>4.0</td>\n",
       "      <td>0.01910</td>\n",
       "    </tr>\n",
       "    <tr>\n",
       "      <th>4</th>\n",
       "      <td>KRW</td>\n",
       "      <td>20211227</td>\n",
       "      <td>4.0</td>\n",
       "      <td>0.01897</td>\n",
       "    </tr>\n",
       "    <tr>\n",
       "      <th>...</th>\n",
       "      <td>...</td>\n",
       "      <td>...</td>\n",
       "      <td>...</td>\n",
       "      <td>...</td>\n",
       "    </tr>\n",
       "    <tr>\n",
       "      <th>3979</th>\n",
       "      <td>KRW</td>\n",
       "      <td>20210108</td>\n",
       "      <td>1.0</td>\n",
       "      <td>0.00633</td>\n",
       "    </tr>\n",
       "    <tr>\n",
       "      <th>3980</th>\n",
       "      <td>KRW</td>\n",
       "      <td>20210107</td>\n",
       "      <td>1.0</td>\n",
       "      <td>0.00636</td>\n",
       "    </tr>\n",
       "    <tr>\n",
       "      <th>3981</th>\n",
       "      <td>KRW</td>\n",
       "      <td>20210106</td>\n",
       "      <td>1.0</td>\n",
       "      <td>0.00636</td>\n",
       "    </tr>\n",
       "    <tr>\n",
       "      <th>3982</th>\n",
       "      <td>KRW</td>\n",
       "      <td>20210105</td>\n",
       "      <td>1.0</td>\n",
       "      <td>0.00636</td>\n",
       "    </tr>\n",
       "    <tr>\n",
       "      <th>3983</th>\n",
       "      <td>KRW</td>\n",
       "      <td>20210104</td>\n",
       "      <td>1.0</td>\n",
       "      <td>0.00651</td>\n",
       "    </tr>\n",
       "  </tbody>\n",
       "</table>\n",
       "<p>3984 rows × 4 columns</p>\n",
       "</div>"
      ],
      "text/plain": [
       "     CURRENCY BASE_DATE  MATURITY  INT_RATE\n",
       "0         KRW  20211231       4.0   0.01925\n",
       "1         KRW  20211230       4.0   0.01925\n",
       "2         KRW  20211229       4.0   0.01890\n",
       "3         KRW  20211228       4.0   0.01910\n",
       "4         KRW  20211227       4.0   0.01897\n",
       "...       ...       ...       ...       ...\n",
       "3979      KRW  20210108       1.0   0.00633\n",
       "3980      KRW  20210107       1.0   0.00636\n",
       "3981      KRW  20210106       1.0   0.00636\n",
       "3982      KRW  20210105       1.0   0.00636\n",
       "3983      KRW  20210104       1.0   0.00651\n",
       "\n",
       "[3984 rows x 4 columns]"
      ]
     },
     "execution_count": 222,
     "metadata": {},
     "output_type": "execute_result"
    }
   ],
   "source": [
    "files = glob.glob(DOWNLOAD_PATH + '/기간별*.xls')\n",
    "result = []\n",
    "for file in files:\n",
    "    df = pd.read_excel(file)\n",
    "    index = df.iloc[2:, 0]\n",
    "    values = df.iloc[2:, 1:].values.astype(float)\n",
    "    columns = df.iloc[0, 1:].values\n",
    "    df2 = pd.DataFrame(values, columns=columns, index=index)\n",
    "    result.append(df2)\n",
    "df3 = pd.concat(result, axis=1)/100\n",
    "df3.columns = df3.columns.map(lambda x: TENOR_MAP.get(x, '#'))\n",
    "df3 = df3.reset_index()\n",
    "df3['일자'] = df3['일자'].str.replace('/', '')\n",
    "df3 = df3.rename(columns={'일자': 'BASE_DATE'})\n",
    "df3 = df3.melt(id_vars='BASE_DATE', var_name='MATURITY', value_name='INT_RATE')\n",
    "df3['MATURITY'] = df3['MATURITY'].astype(float)\n",
    "df3.insert(0, 'CURRENCY', 'KRW')\n",
    "df3"
   ]
  }
 ],
 "metadata": {
  "interpreter": {
   "hash": "e362704a1ea90799be74b25044e4ca0509990194a83dd3e947f32174e5f9beb7"
  },
  "kernelspec": {
   "display_name": "Python 3.9.10 64-bit",
   "language": "python",
   "name": "python3"
  },
  "language_info": {
   "codemirror_mode": {
    "name": "ipython",
    "version": 3
   },
   "file_extension": ".py",
   "mimetype": "text/x-python",
   "name": "python",
   "nbconvert_exporter": "python",
   "pygments_lexer": "ipython3",
   "version": "3.9.10"
  },
  "orig_nbformat": 4
 },
 "nbformat": 4,
 "nbformat_minor": 2
}
