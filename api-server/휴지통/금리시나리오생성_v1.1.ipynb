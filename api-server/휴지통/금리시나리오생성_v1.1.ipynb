{
 "cells": [
  {
   "cell_type": "code",
   "execution_count": 1,
   "metadata": {},
   "outputs": [],
   "source": [
    "import os\n",
    "import yaml\n",
    "import json\n",
    "import numpy as np\n",
    "import pandas as pd\n",
    "from tqdm import tqdm\n",
    "from datetime import datetime\n",
    "from dbinsrisk.kics_qis4_scenario import SmithWilson_ALPHA, SmithWilsonYTM, SmithWilson, Cont2Discrete, YTMPrice"
   ]
  },
  {
   "cell_type": "code",
   "execution_count": 8,
   "metadata": {},
   "outputs": [],
   "source": [
    "# 환경설정\n",
    "## 환경변수\n",
    "T = np.arange(1201)\n",
    "T_OUT = T/12\n",
    "with open('config.yaml', 'r') as f:\n",
    "    config = yaml.load(f, Loader=yaml.FullLoader)\n",
    "CURRENCY = config['Currency']\n",
    "BASE_YYMM = config['BaseYymm']\n",
    "FILENAME_BASE = config['FileNameBase']\n",
    "FILENAME_SHOCK = config['FileNameShock']\n",
    "\n",
    "## 기초정보\n",
    "with open('settings.json', 'r') as f:\n",
    "    settings = json.load(f)\n",
    "ALPHA0 = settings[BASE_YYMM][CURRENCY]['alpha0']\n",
    "LTFR = settings[BASE_YYMM][CURRENCY]['ltfr']\n",
    "FREQ = settings[BASE_YYMM][CURRENCY]['freq']\n",
    "SPREAD = settings[BASE_YYMM][CURRENCY]['spread']\n",
    "CP = settings[BASE_YYMM][CURRENCY]['cp']\n",
    "TOL = settings[BASE_YYMM][CURRENCY]['tol']\n",
    "LLP = settings[BASE_YYMM][CURRENCY]['llp']\n",
    "TENOR0 = np.array(settings[BASE_YYMM][CURRENCY]['tenor0'], dtype='float')\n",
    "EOM = datetime.strptime(settings[BASE_YYMM][CURRENCY]['eom'], '%Y-%m-%d')\n",
    "\n",
    "## 기타설정\n",
    "os.makedirs('result', exist_ok=True)"
   ]
  },
  {
   "cell_type": "code",
   "execution_count": 3,
   "metadata": {},
   "outputs": [],
   "source": [
    "# 데이터 불러오기\n",
    "## 수익률\n",
    "yield_curve = (\n",
    "pd.read_excel(f'data/{FILENAME_BASE}')\n",
    "    .query('base_date == @EOM')\n",
    "    .query('currency == @CURRENCY')\n",
    "    .drop(['base_date', 'currency'], axis=1)\n",
    "    .dropna(axis=1)\n",
    ")\n",
    "yield_curve.columns = yield_curve.columns.astype(float)\n",
    "assert(len(yield_curve) == 1), '데이터 유일성 조건 위배'\n",
    "ytm = np.array(yield_curve[TENOR0].iloc[0], dtype='float')\n",
    "\n",
    "## 충격시나리오\n",
    "shock_cont_all = (\n",
    "pd.read_excel(f'data/{FILENAME_SHOCK}', dtype={'base_yymm': str})\n",
    "    .query('base_yymm == @BASE_YYMM')\n",
    "    .query('currency == @CURRENCY')\n",
    "    .drop(['base_yymm', 'currency'], axis=1)\n",
    "    .dropna(axis=1)\n",
    "    .set_index('scen_no')\n",
    ")\n",
    "shock_cont_all.columns = shock_cont_all.columns.astype(float)\n",
    "shock_cont_all = shock_cont_all[TENOR0[TENOR0<=LLP]]\n",
    "assert shock_cont_all.index.is_unique, \"충격시나리오 유일성 조건 위배\""
   ]
  },
  {
   "cell_type": "code",
   "execution_count": 4,
   "metadata": {},
   "outputs": [
    {
     "name": "stderr",
     "output_type": "stream",
     "text": [
      "100%|██████████| 6/6 [00:01<00:00,  3.00it/s]\n"
     ]
    }
   ],
   "source": [
    "# Yield2Spot\n",
    "spot_cont = SmithWilsonYTM(ytm[TENOR0.argmax()], ALPHA0, TENOR0, ytm, FREQ, TENOR0)[TENOR0<=LLP]\n",
    "tenor = TENOR0[TENOR0<=LLP]\n",
    "\n",
    "# Liability\n",
    "shock_cont_all.loc[1] = shock_cont = np.zeros(len(tenor))\n",
    "shock_cont_all = shock_cont_all.sort_index()\n",
    "sw_input = np.log(np.exp(spot_cont+shock_cont)+SPREAD)\n",
    "alpha = SmithWilson_ALPHA(LTFR, tenor, sw_input, CP, TOL)\n",
    "spot_disc_liab_base = Cont2Discrete(SmithWilson(LTFR, alpha, tenor, sw_input, T_OUT))\n",
    "forward_disc_liab_base = (1+spot_disc_liab_base[1:])**T[1:]/(1+spot_disc_liab_base[:-1])**T[:-1]-1\n",
    "\n",
    "# Asset\n",
    "spot_disc_asset_base = Cont2Discrete(SmithWilsonYTM(ytm[TENOR0.argmax()], ALPHA0, TENOR0, ytm, FREQ, T_OUT))\n",
    "forward_disc_asset_base = (1+spot_disc_asset_base[1:])**T[1:]/(1+spot_disc_asset_base[:-1])**T[:-1]-1\n",
    "\n",
    "result_forward_disc_liab, result_forward_disc_asset = [], []\n",
    "result_spot_disc_liab, result_spot_disc_asset = [], []\n",
    "for scen_no in tqdm(shock_cont_all.index):\n",
    "    # LTFR\n",
    "    lrfr_apply = LTFR+0.0015 if scen_no == 3 else LTFR-0.0015 if scen_no == 4 else LTFR\n",
    "    \n",
    "    # Shock\n",
    "    shock_cont_all.columns = shock_cont_all.columns.astype(float)\n",
    "    shock_cont = shock_cont_all.loc[scen_no, tenor].values\n",
    "    sw_input = np.log(np.exp(spot_cont+shock_cont)+SPREAD)\n",
    "   \n",
    "    # Liability\n",
    "    alpha = SmithWilson_ALPHA(lrfr_apply, tenor, sw_input, CP, TOL)\n",
    "    spot_disc_liab = Cont2Discrete(SmithWilson(lrfr_apply, alpha, tenor, sw_input, T_OUT))\n",
    "    forward_disc_liab = (1+spot_disc_liab[1:])**T[1:]/(1+spot_disc_liab[:-1])**T[:-1]-1\n",
    "\n",
    "    # Asset\n",
    "    spot_disc_asset = spot_disc_asset_base + (spot_disc_liab - spot_disc_liab_base)\n",
    "    forward_disc_asset = (1+spot_disc_asset[1:])**T[1:]/(1+spot_disc_asset[:-1])**T[:-1]-1\n",
    "\n",
    "    result_forward_disc_liab.append(forward_disc_liab)\n",
    "    result_forward_disc_asset.append(forward_disc_asset)\n",
    "    result_spot_disc_liab.append(spot_disc_liab)\n",
    "    result_spot_disc_asset.append(spot_disc_asset)"
   ]
  },
  {
   "cell_type": "code",
   "execution_count": 5,
   "metadata": {},
   "outputs": [],
   "source": [
    "# 데이터 후처리 (1)\n",
    "## KICS_USER_IR_SCENARIO_01, KICS_USER_IR_SCENARIO_02\n",
    "mats = [f'M{x:03d}' for x in T[1:]]\n",
    "kics_user_ir_scenario_liab = pd.DataFrame(np.r_[result_forward_disc_liab])\n",
    "kics_user_ir_scenario_liab.columns = mats\n",
    "kics_user_ir_scenario_liab.insert(0, 'SCEN_NO', shock_cont_all.index)\n",
    "kics_user_ir_scenario_liab.insert(0, 'FSS_SCEN_TYP', '213Z')\n",
    "\n",
    "kics_user_ir_scenario_asset = pd.DataFrame(np.r_[result_forward_disc_asset])\n",
    "kics_user_ir_scenario_asset.columns = mats\n",
    "kics_user_ir_scenario_asset.insert(0, 'SCEN_NO', shock_cont_all.index)\n",
    "kics_user_ir_scenario_asset.insert(0, 'FSS_SCEN_TYP', '1002')\n",
    "\n",
    "kics_user_ir_scenario = pd.concat([kics_user_ir_scenario_liab, kics_user_ir_scenario_asset], axis=0).reset_index(drop=True)\n",
    "kics_user_ir_scenario.insert(0, 'CUR_CD', CURRENCY)\n",
    "kics_user_ir_scenario.insert(0, 'BSE_DT', EOM.strftime('%Y%m%d'))\n",
    "kics_user_ir_scenario['LAST_MODIFIED_BY'] = '11700205'\n",
    "kics_user_ir_scenario['LAST_UPDATE_DATE'] = ''\n",
    "kics_user_ir_scenario = kics_user_ir_scenario[['BSE_DT', 'FSS_SCEN_TYP', 'SCEN_NO', 'CUR_CD'] + mats + ['LAST_MODIFIED_BY', 'LAST_UPDATE_DATE']]\n",
    "\n",
    "kics_user_ir_scenario_01 = kics_user_ir_scenario.drop(mats[600:], axis=1)\n",
    "kics_user_ir_scenario_02 = kics_user_ir_scenario.drop(mats[:600], axis=1)"
   ]
  },
  {
   "cell_type": "code",
   "execution_count": 6,
   "metadata": {},
   "outputs": [],
   "source": [
    "# 데이터 후처리 (2)\n",
    "## KICS_USER_FSS_SCENARIO\n",
    "kics_user_fss_scenario_liab = pd.DataFrame(np.r_[result_spot_disc_liab])\n",
    "kics_user_fss_scenario_liab.columns = T\n",
    "kics_user_fss_scenario_liab.insert(0, 'KICS_SCEN_NO', shock_cont_all.index)\n",
    "kics_user_fss_scenario_liab.insert(0, 'FSS_SCEN_TYP', '3100')\n",
    "kics_user_fss_scenario_asset = pd.DataFrame(np.r_[result_spot_disc_asset])\n",
    "kics_user_fss_scenario_asset.columns = T\n",
    "kics_user_fss_scenario_asset.insert(0, 'KICS_SCEN_NO', shock_cont_all.index)\n",
    "kics_user_fss_scenario_asset.insert(0, 'FSS_SCEN_TYP', '1100')\n",
    "\n",
    "kics_user_fss_scenario = pd.concat([kics_user_fss_scenario_liab, kics_user_fss_scenario_asset], axis=0)\n",
    "kics_user_fss_scenario.insert(0, 'CUR_CD', CURRENCY)\n",
    "kics_user_fss_scenario.insert(0, 'BSE_YM', BASE_YYMM)\n",
    "kics_user_fss_scenario = (\n",
    "kics_user_fss_scenario \n",
    "    .melt(id_vars=['BSE_YM', 'FSS_SCEN_TYP', 'CUR_CD', 'KICS_SCEN_NO'], var_name='MAT_TERM', value_name='SPOT_RATE') \n",
    "    .query('MAT_TERM != 0')\n",
    "    .sort_values(by=['BSE_YM', 'FSS_SCEN_TYP', 'CUR_CD', 'KICS_SCEN_NO', 'MAT_TERM'])\n",
    "    .reset_index(drop=True)\n",
    "    .assign(LAST_MODIFIED_BY = lambda x: '11700205')\n",
    "    .assign(LAST_UPDATE_DATE = lambda x: '')\n",
    ")"
   ]
  },
  {
   "cell_type": "code",
   "execution_count": 7,
   "metadata": {},
   "outputs": [],
   "source": [
    "# 데이터 내보내기\n",
    "now = datetime.now().strftime('%Y%m%d%H%M%S')\n",
    "with pd.ExcelWriter(f'result/KICS_USER_IR_SCENARIO_{CURRENCY}_{BASE_YYMM}_{now}.xlsx', 'xlsxwriter') as writer:\n",
    "    kics_user_ir_scenario.to_excel(writer, index=False)\n",
    "with pd.ExcelWriter(f'result/KICS_USER_IR_SCENARIO_01_{CURRENCY}_{BASE_YYMM}_{now}.xlsx', 'xlsxwriter') as writer:\n",
    "    kics_user_ir_scenario_01.to_excel(writer, sheet_name='KICS_USER_IR_SCENARIO_01', index=False)\n",
    "with pd.ExcelWriter(f'result/KICS_USER_IR_SCENARIO_02_{CURRENCY}_{BASE_YYMM}_{now}.xlsx', 'xlsxwriter') as writer:\n",
    "    kics_user_ir_scenario_02.to_excel(writer, sheet_name='KICS_USER_IR_SCENARIO_02', index=False)\n",
    "with pd.ExcelWriter(f'result/KICS_USER_FSS_SCENARIO_{CURRENCY}_{BASE_YYMM}_{now}.xlsx', 'xlsxwriter') as writer:\n",
    "    kics_user_fss_scenario.to_excel(writer, sheet_name='KICS_USER_FSS_SCENARIO', index=False)"
   ]
  }
 ],
 "metadata": {
  "interpreter": {
   "hash": "c2c23473723b5cbd4d70b53e676df1cbf7fb866f1f5e249b9816d76fa29d1ead"
  },
  "kernelspec": {
   "display_name": "Python 3",
   "language": "python",
   "name": "python3"
  },
  "language_info": {
   "codemirror_mode": {
    "name": "ipython",
    "version": 3
   },
   "file_extension": ".py",
   "mimetype": "text/x-python",
   "name": "python",
   "nbconvert_exporter": "python",
   "pygments_lexer": "ipython3",
   "version": "3.7.6"
  }
 },
 "nbformat": 4,
 "nbformat_minor": 4
}
